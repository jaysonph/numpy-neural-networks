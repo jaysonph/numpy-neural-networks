{
 "cells": [
  {
   "cell_type": "code",
   "execution_count": 1,
   "metadata": {},
   "outputs": [],
   "source": [
    "import numpy as np\n",
    "from tqdm.notebook import tqdm\n",
    "import matplotlib.pyplot as plt"
   ]
  },
  {
   "cell_type": "code",
   "execution_count": 2,
   "metadata": {},
   "outputs": [],
   "source": [
    "class Linear():\n",
    "    def __init__(self, in_dim, out_dim):\n",
    "        '''\n",
    "        Args:\n",
    "        - in_dim (int)\n",
    "        - out_dim (int)\n",
    "        '''\n",
    "        self.in_dim = in_dim\n",
    "        self.out_dim = out_dim\n",
    "        self.weights = np.random.randn(in_dim, out_dim)\n",
    "        self.bias = np.random.randn(out_dim)\n",
    "        \n",
    "    def __call__(self, x):\n",
    "        '''\n",
    "        Args:\n",
    "        - x (numpy.array[batch, in_dim])\n",
    "        \n",
    "        Returns:\n",
    "        - (numpy.array[batch, out_dim])\n",
    "        '''\n",
    "        return np.matmul(x, self.weights) + self.bias[np.newaxis, ...]\n",
    "    \n",
    "\n",
    "class ReLU():\n",
    "    def __init__(self):\n",
    "        pass\n",
    "    \n",
    "    def __call__(self, x):\n",
    "        '''\n",
    "        Args:\n",
    "        - x (numpy.array[arbitrary size])\n",
    "        \n",
    "        Returns:\n",
    "        - (numpy.array[arbitrary size])\n",
    "        '''\n",
    "        return (x > 0) * x\n",
    "    \n",
    "class Softmax():\n",
    "    def __init__(self):\n",
    "        pass\n",
    "    \n",
    "    def __call__(self, x):\n",
    "        '''\n",
    "        Args:\n",
    "        - x (numpy.array[arbitrary size])\n",
    "        \n",
    "        Returns:\n",
    "        - (numpy.array[arbitrary size])\n",
    "        '''\n",
    "        return np.exp(x) / np.exp(x).sum(1)[..., np.newaxis]"
   ]
  },
  {
   "cell_type": "code",
   "execution_count": 3,
   "metadata": {},
   "outputs": [],
   "source": [
    "def compute_loss(logits, labels):\n",
    "    '''\n",
    "    Args:\n",
    "    - logits (numpy.array[batch, out_dim])\n",
    "    - labels (numpy.array[batch,])\n",
    "    \n",
    "    Returns:\n",
    "    - (int): Loss\n",
    "    '''\n",
    "    probs = np.exp(logits) / np.exp(logits).sum(1)[..., np.newaxis]  # softmax output\n",
    "    target_probs = probs[np.arange(labels.shape[0])[..., np.newaxis], labels[..., np.newaxis]][:, 0]\n",
    "    loss = -np.log(target_probs).sum()  # cross-entropy loss\n",
    "    return loss\n",
    "\n",
    "def compute_prediction(logits):\n",
    "    '''\n",
    "    Args:\n",
    "    - logits (numpy.array[batch, out_dim])\n",
    "    \n",
    "    Returns:\n",
    "    - (numpy.array[batch, ]): class predictions\n",
    "    '''\n",
    "    return np.argmax(logits, axis=1)\n",
    "\n",
    "def compute_accuracy(prediction, labels):\n",
    "    '''\n",
    "    Args:\n",
    "    - prediction (numpy.array[batch, ])\n",
    "    - labels (numpy.array[batch,])\n",
    "    \n",
    "    Returns:\n",
    "    - (int): accuracy score\n",
    "    '''\n",
    "    return (prediction == labels).sum() / (labels.shape[0])\n",
    "\n",
    "def to_one_hot(x):\n",
    "    one_hot = np.zeros((x.shape[0], num_classes))\n",
    "    one_hot[np.arange(x.shape[0])[..., np.newaxis], x[..., np.newaxis]] = 1.\n",
    "    return one_hot"
   ]
  },
  {
   "cell_type": "code",
   "execution_count": 4,
   "metadata": {},
   "outputs": [],
   "source": [
    "class ThreeLayersNetwork():\n",
    "    def __init__(self, in_dim, n_cls):\n",
    "        '''\n",
    "        Args:\n",
    "        - in_dim (int)\n",
    "        - n_cls (int): number of class\n",
    "        '''\n",
    "        self.lin1 = Linear(in_dim, 64)\n",
    "        self.lin2 = Linear(64, 32)\n",
    "        self.lin3 = Linear(32, n_cls)\n",
    "        self.relu = ReLU()\n",
    "        self.softmax = Softmax()\n",
    "    \n",
    "    def compute_logits(self, x):\n",
    "        '''\n",
    "        Forward propagation\n",
    "        \n",
    "        Args:\n",
    "        - x (numpy.array[batch, in_dim])\n",
    "        \n",
    "        Returns:\n",
    "        - logits (numpy.array[batch, n_cls]): before softmax\n",
    "        '''\n",
    "        out = self.lin1(x)\n",
    "        out = self.relu(out)\n",
    "        out = self.lin2(out)\n",
    "        out = self.relu(out)\n",
    "        out = self.lin3(out)\n",
    "        return out\n",
    "    \n",
    "    def train(self, x, y, lr):\n",
    "        '''\n",
    "        Backward propagation\n",
    "        \n",
    "        Args:\n",
    "        - x (numpy.array[batch, in_dim])\n",
    "        - y (numpy.array[batch, ]): ground truth\n",
    "        - lr (float/int): learning rate \n",
    "        '''\n",
    "        m = y.shape[0]\n",
    "        y = to_one_hot(y)\n",
    "        \n",
    "        # Forward\n",
    "        z1 = self.lin1(x)\n",
    "        a1 = self.relu(z1)\n",
    "        z2 = self.lin2(a1)\n",
    "        a2 = self.relu(z2)\n",
    "        z3 = self.lin3(a2)\n",
    "        y_pred = self.softmax(z3)\n",
    "        \n",
    "        # Backward (compute gradients)\n",
    "        dz3 = y_pred - y\n",
    "        dw3 = (1/m) * np.matmul(a2.T, dz3)  # [i, m] * [m, j] = [i, j]\n",
    "        db3 = (1/m) * dz3.sum(0)\n",
    "        da2 = np.matmul(dz3, self.lin3.weights.T)  # [m, j] * [j, i] = [m, i]\n",
    "        dz2 = da2 * (z2 > 0)\n",
    "        dw2 = (1/m) * np.matmul(a1.T, dz2)  # [i, m] * [m, j] = [i, j\n",
    "        db2 = (1/m) * dz2.sum(0)\n",
    "        da1 = np.matmul(dz2, self.lin2.weights.T)  # [m, j] * [j, i] = [m, i]\n",
    "        dz1 = da1 * (z1 > 0)\n",
    "        dw1 = (1/m) * np.matmul(x.T, dz1)  # [i, m] * [m, j] = [i, j]\n",
    "        db1 = (1/m) * dz1.sum(0)\n",
    "        \n",
    "        # Gradient Descent (update weights)\n",
    "        self.lin1.weights -= lr * dw1\n",
    "        self.lin2.weights -= lr * dw2\n",
    "        self.lin3.weights -= lr * dw3\n",
    "        self.lin1.bias -= lr * db1\n",
    "        self.lin2.bias -= lr * db2\n",
    "        self.lin3.bias -= lr * db3"
   ]
  },
  {
   "cell_type": "markdown",
   "metadata": {},
   "source": [
    "## Forward"
   ]
  },
  {
   "cell_type": "code",
   "execution_count": 5,
   "metadata": {},
   "outputs": [
    {
     "name": "stderr",
     "output_type": "stream",
     "text": [
      "/home/jayson/anaconda3/lib/python3.7/site-packages/ipykernel_launcher.py:12: RuntimeWarning: divide by zero encountered in log\n",
      "  if sys.path[0] == '':\n"
     ]
    }
   ],
   "source": [
    "batch_size = 20\n",
    "dimension = 100\n",
    "num_classes = 10\n",
    "data = np.random.random([batch_size, dimension])\n",
    "\n",
    "labels = np.random.randint(num_classes, size=[batch_size]) # labels are 0~9\n",
    "network = ThreeLayersNetwork(dimension, num_classes)\n",
    "logits = network.compute_logits(data) # output of the network with shape[20, 10]\n",
    "loss = compute_loss(logits, labels) # compute cross-entropy loss\n",
    "prediction = compute_prediction(logits) # prediction made by the model\n",
    "accuracy = compute_accuracy(prediction, labels) # compute accuracy of the batch"
   ]
  },
  {
   "cell_type": "markdown",
   "metadata": {},
   "source": [
    "## Backward"
   ]
  },
  {
   "cell_type": "code",
   "execution_count": 7,
   "metadata": {},
   "outputs": [
    {
     "data": {
      "application/vnd.jupyter.widget-view+json": {
       "model_id": "bb9b8f712a7b4cd58381aa3ab4b6f97d",
       "version_major": 2,
       "version_minor": 0
      },
      "text/plain": [
       "  0%|          | 0/300 [00:00<?, ?it/s]"
      ]
     },
     "metadata": {},
     "output_type": "display_data"
    },
    {
     "name": "stdout",
     "output_type": "stream",
     "text": [
      "(Epoch 0/300) Tr Loss = 174.12 | Tr Acc = 0.50\n",
      "(Epoch 5/300) Tr Loss = 153.71 | Tr Acc = 0.55\n",
      "(Epoch 10/300) Tr Loss = 137.99 | Tr Acc = 0.65\n",
      "(Epoch 15/300) Tr Loss = 125.33 | Tr Acc = 0.65\n",
      "(Epoch 20/300) Tr Loss = 114.64 | Tr Acc = 0.70\n",
      "(Epoch 25/300) Tr Loss = 105.15 | Tr Acc = 0.70\n",
      "(Epoch 30/300) Tr Loss = 96.28 | Tr Acc = 0.70\n",
      "(Epoch 35/300) Tr Loss = 88.32 | Tr Acc = 0.70\n",
      "(Epoch 40/300) Tr Loss = 81.19 | Tr Acc = 0.70\n",
      "(Epoch 45/300) Tr Loss = 74.57 | Tr Acc = 0.75\n",
      "(Epoch 50/300) Tr Loss = 68.23 | Tr Acc = 0.75\n",
      "(Epoch 55/300) Tr Loss = 62.07 | Tr Acc = 0.80\n",
      "(Epoch 60/300) Tr Loss = 56.05 | Tr Acc = 0.80\n",
      "(Epoch 65/300) Tr Loss = 50.12 | Tr Acc = 0.80\n",
      "(Epoch 70/300) Tr Loss = 44.26 | Tr Acc = 0.80\n",
      "(Epoch 75/300) Tr Loss = 38.50 | Tr Acc = 0.80\n",
      "(Epoch 80/300) Tr Loss = 32.81 | Tr Acc = 0.80\n",
      "(Epoch 85/300) Tr Loss = 27.29 | Tr Acc = 0.80\n",
      "(Epoch 90/300) Tr Loss = 22.21 | Tr Acc = 0.80\n",
      "(Epoch 95/300) Tr Loss = 18.12 | Tr Acc = 0.85\n",
      "(Epoch 100/300) Tr Loss = 14.89 | Tr Acc = 0.90\n",
      "(Epoch 105/300) Tr Loss = 12.20 | Tr Acc = 0.90\n",
      "(Epoch 110/300) Tr Loss = 9.99 | Tr Acc = 0.90\n",
      "(Epoch 115/300) Tr Loss = 8.15 | Tr Acc = 0.90\n",
      "(Epoch 120/300) Tr Loss = 6.58 | Tr Acc = 0.95\n",
      "(Epoch 125/300) Tr Loss = 5.25 | Tr Acc = 0.95\n",
      "(Epoch 130/300) Tr Loss = 4.17 | Tr Acc = 0.95\n",
      "(Epoch 135/300) Tr Loss = 3.35 | Tr Acc = 0.95\n",
      "(Epoch 140/300) Tr Loss = 2.76 | Tr Acc = 1.00\n",
      "(Epoch 145/300) Tr Loss = 2.34 | Tr Acc = 1.00\n",
      "(Epoch 150/300) Tr Loss = 2.02 | Tr Acc = 1.00\n",
      "(Epoch 155/300) Tr Loss = 1.77 | Tr Acc = 1.00\n",
      "(Epoch 160/300) Tr Loss = 1.58 | Tr Acc = 1.00\n",
      "(Epoch 165/300) Tr Loss = 1.42 | Tr Acc = 1.00\n",
      "(Epoch 170/300) Tr Loss = 1.29 | Tr Acc = 1.00\n",
      "(Epoch 175/300) Tr Loss = 1.18 | Tr Acc = 1.00\n",
      "(Epoch 180/300) Tr Loss = 1.09 | Tr Acc = 1.00\n",
      "(Epoch 185/300) Tr Loss = 1.01 | Tr Acc = 1.00\n",
      "(Epoch 190/300) Tr Loss = 0.95 | Tr Acc = 1.00\n",
      "(Epoch 195/300) Tr Loss = 0.89 | Tr Acc = 1.00\n",
      "(Epoch 200/300) Tr Loss = 0.84 | Tr Acc = 1.00\n",
      "(Epoch 205/300) Tr Loss = 0.79 | Tr Acc = 1.00\n",
      "(Epoch 210/300) Tr Loss = 0.75 | Tr Acc = 1.00\n",
      "(Epoch 215/300) Tr Loss = 0.71 | Tr Acc = 1.00\n",
      "(Epoch 220/300) Tr Loss = 0.68 | Tr Acc = 1.00\n",
      "(Epoch 225/300) Tr Loss = 0.65 | Tr Acc = 1.00\n",
      "(Epoch 230/300) Tr Loss = 0.62 | Tr Acc = 1.00\n",
      "(Epoch 235/300) Tr Loss = 0.60 | Tr Acc = 1.00\n",
      "(Epoch 240/300) Tr Loss = 0.57 | Tr Acc = 1.00\n",
      "(Epoch 245/300) Tr Loss = 0.55 | Tr Acc = 1.00\n",
      "(Epoch 250/300) Tr Loss = 0.53 | Tr Acc = 1.00\n",
      "(Epoch 255/300) Tr Loss = 0.51 | Tr Acc = 1.00\n",
      "(Epoch 260/300) Tr Loss = 0.50 | Tr Acc = 1.00\n",
      "(Epoch 265/300) Tr Loss = 0.48 | Tr Acc = 1.00\n",
      "(Epoch 270/300) Tr Loss = 0.46 | Tr Acc = 1.00\n",
      "(Epoch 275/300) Tr Loss = 0.45 | Tr Acc = 1.00\n",
      "(Epoch 280/300) Tr Loss = 0.44 | Tr Acc = 1.00\n",
      "(Epoch 285/300) Tr Loss = 0.42 | Tr Acc = 1.00\n",
      "(Epoch 290/300) Tr Loss = 0.41 | Tr Acc = 1.00\n",
      "(Epoch 295/300) Tr Loss = 0.40 | Tr Acc = 1.00\n"
     ]
    }
   ],
   "source": [
    "print_intv = 5\n",
    "lr = 0.01\n",
    "num_epochs = 300\n",
    "tr_losses = []\n",
    "tr_accs = []\n",
    "for ep in tqdm(range(num_epochs)):\n",
    "    network.train(data, labels, lr=lr)\n",
    "    logits = network.compute_logits(data) # output of the network with shape[20, 10]\n",
    "    loss = compute_loss(logits, labels) # compute cross-entropy loss\n",
    "    prediction = compute_prediction(logits) # prediction made by the model\n",
    "    accuracy = compute_accuracy(prediction, labels) # compute accuracy of the batch\n",
    "    tr_losses.append(loss)\n",
    "    tr_accs.append(accuracy)\n",
    "    if ep % print_intv == 0:\n",
    "        print(f'(Epoch {ep}/{num_epochs}) Tr Loss = {loss:.2f} | Tr Acc = {accuracy:.2f}')"
   ]
  },
  {
   "cell_type": "code",
   "execution_count": 9,
   "metadata": {},
   "outputs": [
    {
     "data": {
      "image/png": "[encoded data removed]",
      "text/plain": [
       "<Figure size 1080x576 with 1 Axes>"
      ]
     },
     "metadata": {
      "needs_background": "light"
     },
     "output_type": "display_data"
    },
    {
     "data": {
      "image/png": "[encoded data removed]",
      "text/plain": [
       "<Figure size 1080x576 with 1 Axes>"
      ]
     },
     "metadata": {
      "needs_background": "light"
     },
     "output_type": "display_data"
    }
   ],
   "source": [
    "plt.figure(figsize=(15,8))\n",
    "plt.plot(tr_losses)\n",
    "plt.title('Training loss')\n",
    "plt.xlabel('Epoch')\n",
    "plt.ylabel('Loss')\n",
    "plt.show()\n",
    "\n",
    "plt.figure(figsize=(15,8))\n",
    "plt.plot(tr_accs)\n",
    "plt.title('Training Accuracy')\n",
    "plt.xlabel('Epoch')\n",
    "plt.ylabel('Accuracy')\n",
    "plt.show()"
   ]
  },
  {
   "cell_type": "code",
   "execution_count": null,
   "metadata": {},
   "outputs": [],
   "source": []
  }
 ],
 "metadata": {
  "kernelspec": {
   "display_name": "Python 3",
   "language": "python",
   "name": "python3"
  },
  "language_info": {
   "codemirror_mode": {
    "name": "ipython",
    "version": 3
   },
   "file_extension": ".py",
   "mimetype": "text/x-python",
   "name": "python",
   "nbconvert_exporter": "python",
   "pygments_lexer": "ipython3",
   "version": "3.7.3"
  }
 },
 "nbformat": 4,
 "nbformat_minor": 2
}
